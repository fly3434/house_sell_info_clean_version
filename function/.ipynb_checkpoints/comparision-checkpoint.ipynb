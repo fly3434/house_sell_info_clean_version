{
 "cells": [
  {
   "cell_type": "code",
   "execution_count": 2,
   "metadata": {},
   "outputs": [
    {
     "name": "stdout",
     "output_type": "stream",
     "text": [
      "open file: data\\crawling\\20210315.sqlite3 succeeded\n",
      "open file: data\\crawling\\20210314.sqlite3 succeeded\n"
     ]
    }
   ],
   "source": [
    "import pandas as pd\n",
    "import sqlite3\n",
    "import os\n",
    "import datetime\n",
    "\n",
    "main_dir = os.path.join('data', 'crawling')\n",
    "if not os.path.isdir(main_dir):\n",
    "    os.makedirs(main_dir)\n",
    "\n",
    "today = datetime.datetime.now()  \n",
    "yesterday = today - datetime.timedelta(1)\n",
    "\n",
    "conn_today = sqlite3.connect(main_dir + '\\\\' + today.strftime('%Y%m%d') + '.sqlite3')\n",
    "conn_yesterday = sqlite3.connect(main_dir + '\\\\' + yesterday.strftime('%Y%m%d') + '.sqlite3')\n",
    "df_today = pd.read_sql('select * from rakuya_daily_house', conn_today)\n",
    "df_yesterday = pd.read_sql('select * from rakuya_daily_house', conn_yesterday)\n",
    "print(\"open file: \"+ main_dir + '\\\\' + today.strftime('%Y%m%d') + '.sqlite3', 'succeeded')\n",
    "# print(df_today)\n",
    "print(\"open file: \"+ main_dir + '\\\\' + yesterday.strftime('%Y%m%d') + '.sqlite3', 'succeeded')\n",
    "# df_yesterday\n",
    "\n"
   ]
  },
  {
   "cell_type": "code",
   "execution_count": 5,
   "metadata": {},
   "outputs": [
    {
     "name": "stdout",
     "output_type": "stream",
     "text": [
      "Objects are Compared successfully...\n",
      "New objects total: 103 counts\n"
     ]
    }
   ],
   "source": [
    "df_today_new = pd.DataFrame(columns=['標題','社區','坪數','格局','總價','萬/坪','屋齡','樓層','連結'])\n",
    "\n",
    "for house in df_today.iloc:\n",
    "    if house['連結'] not in df_yesterday['連結'].tolist():\n",
    "        df_today_new = df_today_new.append(house, ignore_index = True)\n",
    "print('Objects are Compared successfully...')\n",
    "print('New objects total: ' + str(len(df_today_new)) + ' counts')"
   ]
  },
  {
   "cell_type": "code",
   "execution_count": 6,
   "metadata": {},
   "outputs": [
    {
     "name": "stdout",
     "output_type": "stream",
     "text": [
      "Objects are Compared successfully...\n",
      "Diminished objects total: 96 counts\n"
     ]
    }
   ],
   "source": [
    "df_today_delete = pd.DataFrame(columns=['標題','社區','坪數','格局','總價','萬/坪','屋齡','樓層','連結'])\n",
    "\n",
    "for house in df_yesterday.iloc:\n",
    "    if house['連結'] not in df_today['連結'].tolist():\n",
    "        df_today_delete = df_today_delete.append(house, ignore_index = True)\n",
    "print('Objects are Compared successfully...')\n",
    "print('Diminished objects total: ' + str(len(df_today_delete)) + ' counts')"
   ]
  },
  {
   "cell_type": "code",
   "execution_count": 7,
   "metadata": {},
   "outputs": [
    {
     "name": "stdout",
     "output_type": "stream",
     "text": [
      "Save new objects and diminished objects successfully\n"
     ]
    }
   ],
   "source": [
    "main_dir = os.path.join('data', 'crawling')\n",
    "if not os.path.isdir(main_dir):\n",
    "    os.makedirs(main_dir)\n",
    "    \n",
    "today = datetime.datetime.now() \n",
    "conn_today = sqlite3.connect(main_dir + '\\\\' + today.strftime('%Y%m%d') + '.sqlite3')\n",
    "df_today_new.to_sql('rakuya_today_new', conn_today, if_exists = 'replace')\n",
    "df_today_delete.to_sql('rakuya_today_delete', conn_today, if_exists = 'replace')\n",
    "df_today_new1 = pd.read_sql('select * from rakuya_today_new', conn_today)\n",
    "df_today_delete1 = pd.read_sql('select * from rakuya_today_delete', conn_today)\n",
    "print('Save new objects and diminished objects successfully')\n",
    "\n",
    "# print(df_today_new1)\n",
    "# df_today_delete1"
   ]
  },
  {
   "cell_type": "code",
   "execution_count": 12,
   "metadata": {},
   "outputs": [
    {
     "name": "stdout",
     "output_type": "stream",
     "text": [
      "Find 0 house contain word: 寓上\n",
      "Find 0 house contain word: 裕森林\n"
     ]
    },
    {
     "data": {
      "text/html": [
       "<div>\n",
       "<style scoped>\n",
       "    .dataframe tbody tr th:only-of-type {\n",
       "        vertical-align: middle;\n",
       "    }\n",
       "\n",
       "    .dataframe tbody tr th {\n",
       "        vertical-align: top;\n",
       "    }\n",
       "\n",
       "    .dataframe thead th {\n",
       "        text-align: right;\n",
       "    }\n",
       "</style>\n",
       "<table border=\"1\" class=\"dataframe\">\n",
       "  <thead>\n",
       "    <tr style=\"text-align: right;\">\n",
       "      <th></th>\n",
       "      <th>標題</th>\n",
       "      <th>社區</th>\n",
       "      <th>坪數</th>\n",
       "      <th>格局</th>\n",
       "      <th>總價</th>\n",
       "      <th>萬/坪</th>\n",
       "      <th>屋齡</th>\n",
       "      <th>樓層</th>\n",
       "      <th>連結</th>\n",
       "      <th>index</th>\n",
       "    </tr>\n",
       "  </thead>\n",
       "  <tbody>\n",
       "  </tbody>\n",
       "</table>\n",
       "</div>"
      ],
      "text/plain": [
       "Empty DataFrame\n",
       "Columns: [標題, 社區, 坪數, 格局, 總價, 萬/坪, 屋齡, 樓層, 連結, index]\n",
       "Index: []"
      ]
     },
     "execution_count": 12,
     "metadata": {},
     "output_type": "execute_result"
    }
   ],
   "source": [
    "# key_words = ['達麗晶漾','鼎泰鑫鴻'] \n",
    "key_words = ['寓上','裕森林'] \n",
    "df_new_key = pd.DataFrame(columns=['標題','社區','坪數','格局','總價','萬/坪','屋齡','樓層','連結'])\n",
    "\n",
    "for key_word in key_words:\n",
    "    search1 = df_today_new['標題'].str.contains(key_word)\n",
    "    search2 = df_today_new['社區'].str.contains(key_word)\n",
    "    select_house = search1 | search2\n",
    "    print('Find '+ str(len(df_today_new[select_house])) + ' house contain word: ' + key_word)\n",
    "    df_new_key = df_new_key.append(df_today_new[select_house], ignore_index = True)\n",
    "df_new_key"
   ]
  },
  {
   "cell_type": "markdown",
   "metadata": {},
   "source": [
    "# TEST AREA"
   ]
  },
  {
   "cell_type": "code",
   "execution_count": 4,
   "metadata": {},
   "outputs": [
    {
     "name": "stdout",
     "output_type": "stream",
     "text": [
      "open file: data\\crawling\\20210316.sqlite3 succeeded\n",
      "open file: data\\crawling\\20210315.sqlite3 succeeded\n"
     ]
    }
   ],
   "source": [
    "import pandas as pd\n",
    "import sqlite3\n",
    "import os\n",
    "import datetime\n",
    "\n",
    "source = \"rakuya\"\n",
    "\n",
    "main_dir = os.path.join('data', 'crawling')\n",
    "if not os.path.isdir(main_dir):\n",
    "    os.makedirs(main_dir)\n",
    "\n",
    "today = datetime.datetime.now()  \n",
    "yesterday = today - datetime.timedelta(1)\n",
    "\n",
    "conn_today = sqlite3.connect(main_dir + '\\\\' + today.strftime('%Y%m%d') + '.sqlite3')\n",
    "conn_yesterday = sqlite3.connect(main_dir + '\\\\' + yesterday.strftime('%Y%m%d') + '.sqlite3')\n",
    "df_today = pd.read_sql('select * from '+ source +'_daily_house', conn_today)\n",
    "df_yesterday = pd.read_sql('select * from '+ source +'_daily_house', conn_yesterday)\n",
    "print(\"open file: \"+ main_dir + '\\\\' + today.strftime('%Y%m%d') + '.sqlite3', 'succeeded')\n",
    "# print(df_today)\n",
    "print(\"open file: \"+ main_dir + '\\\\' + yesterday.strftime('%Y%m%d') + '.sqlite3', 'succeeded')\n",
    "# df_yesterday"
   ]
  },
  {
   "cell_type": "code",
   "execution_count": 11,
   "metadata": {},
   "outputs": [
    {
     "data": {
      "text/html": [
       "<div>\n",
       "<style scoped>\n",
       "    .dataframe tbody tr th:only-of-type {\n",
       "        vertical-align: middle;\n",
       "    }\n",
       "\n",
       "    .dataframe tbody tr th {\n",
       "        vertical-align: top;\n",
       "    }\n",
       "\n",
       "    .dataframe thead th {\n",
       "        text-align: right;\n",
       "    }\n",
       "</style>\n",
       "<table border=\"1\" class=\"dataframe\">\n",
       "  <thead>\n",
       "    <tr style=\"text-align: right;\">\n",
       "      <th></th>\n",
       "      <th>標題</th>\n",
       "      <th>社區</th>\n",
       "      <th>連結</th>\n",
       "    </tr>\n",
       "  </thead>\n",
       "  <tbody>\n",
       "    <tr>\n",
       "      <th>0</th>\n",
       "      <td>七月沐樂高樓層三房平車</td>\n",
       "      <td>北屯區景賢路</td>\n",
       "      <td>https://www.rakuya.com.tw/sell_item/info?ehid=...</td>\n",
       "    </tr>\n",
       "    <tr>\n",
       "      <th>1</th>\n",
       "      <td>+富宇山河滙全新未住三房平車</td>\n",
       "      <td>北屯區建和路二段</td>\n",
       "      <td>https://www.rakuya.com.tw/sell_item/info?ehid=...</td>\n",
       "    </tr>\n",
       "    <tr>\n",
       "      <th>2</th>\n",
       "      <td>葳格百萬精裝邊間3房車位景觀美宅</td>\n",
       "      <td>文華硯</td>\n",
       "      <td>https://www.rakuya.com.tw/sell_item/info?ehid=...</td>\n",
       "    </tr>\n",
       "    <tr>\n",
       "      <th>3</th>\n",
       "      <td>@貞強巴黎第六區朝北兩房平車格局好美雙衛浴開窗</td>\n",
       "      <td>巴黎第六區</td>\n",
       "      <td>https://www.rakuya.com.tw/sell_item/info?ehid=...</td>\n",
       "    </tr>\n",
       "    <tr>\n",
       "      <th>4</th>\n",
       "      <td>總太2020全新未住高樓層美三房</td>\n",
       "      <td>總太2020</td>\n",
       "      <td>https://www.rakuya.com.tw/sell_item/info?ehid=...</td>\n",
       "    </tr>\n",
       "    <tr>\n",
       "      <th>...</th>\n",
       "      <td>...</td>\n",
       "      <td>...</td>\n",
       "      <td>...</td>\n",
       "    </tr>\n",
       "    <tr>\n",
       "      <th>98</th>\n",
       "      <td>$洲際W面中庭F棟高樓兩房平車</td>\n",
       "      <td>總太洲際W</td>\n",
       "      <td>https://www.rakuya.com.tw/sell_item/info?ehid=...</td>\n",
       "    </tr>\n",
       "    <tr>\n",
       "      <th>99</th>\n",
       "      <td>+敦富花園90米高樓層永久棟距2+1房平車</td>\n",
       "      <td>北屯區敦富路</td>\n",
       "      <td>https://www.rakuya.com.tw/sell_item/info?ehid=...</td>\n",
       "    </tr>\n",
       "    <tr>\n",
       "      <th>100</th>\n",
       "      <td>總太聚作B5棟高樓層兩房平車</td>\n",
       "      <td>北屯區環太東路</td>\n",
       "      <td>https://www.rakuya.com.tw/sell_item/info?ehid=...</td>\n",
       "    </tr>\n",
       "    <tr>\n",
       "      <th>101</th>\n",
       "      <td>七期市政交響曲前棟3房平車</td>\n",
       "      <td>西屯區市政北一路</td>\n",
       "      <td>https://www.rakuya.com.tw/sell_item/info?ehid=...</td>\n",
       "    </tr>\n",
       "    <tr>\n",
       "      <th>102</th>\n",
       "      <td>【市政愛悅】兩房天際線視野戶</td>\n",
       "      <td>西屯區環中路三段</td>\n",
       "      <td>https://www.rakuya.com.tw/sell_item/info?ehid=...</td>\n",
       "    </tr>\n",
       "  </tbody>\n",
       "</table>\n",
       "<p>103 rows × 3 columns</p>\n",
       "</div>"
      ],
      "text/plain": [
       "                          標題        社區  \\\n",
       "0                七月沐樂高樓層三房平車    北屯區景賢路   \n",
       "1             +富宇山河滙全新未住三房平車  北屯區建和路二段   \n",
       "2           葳格百萬精裝邊間3房車位景觀美宅       文華硯   \n",
       "3    @貞強巴黎第六區朝北兩房平車格局好美雙衛浴開窗     巴黎第六區   \n",
       "4           總太2020全新未住高樓層美三房    總太2020   \n",
       "..                       ...       ...   \n",
       "98           $洲際W面中庭F棟高樓兩房平車     總太洲際W   \n",
       "99     +敦富花園90米高樓層永久棟距2+1房平車    北屯區敦富路   \n",
       "100           總太聚作B5棟高樓層兩房平車   北屯區環太東路   \n",
       "101            七期市政交響曲前棟3房平車  西屯區市政北一路   \n",
       "102           【市政愛悅】兩房天際線視野戶  西屯區環中路三段   \n",
       "\n",
       "                                                    連結  \n",
       "0    https://www.rakuya.com.tw/sell_item/info?ehid=...  \n",
       "1    https://www.rakuya.com.tw/sell_item/info?ehid=...  \n",
       "2    https://www.rakuya.com.tw/sell_item/info?ehid=...  \n",
       "3    https://www.rakuya.com.tw/sell_item/info?ehid=...  \n",
       "4    https://www.rakuya.com.tw/sell_item/info?ehid=...  \n",
       "..                                                 ...  \n",
       "98   https://www.rakuya.com.tw/sell_item/info?ehid=...  \n",
       "99   https://www.rakuya.com.tw/sell_item/info?ehid=...  \n",
       "100  https://www.rakuya.com.tw/sell_item/info?ehid=...  \n",
       "101  https://www.rakuya.com.tw/sell_item/info?ehid=...  \n",
       "102  https://www.rakuya.com.tw/sell_item/info?ehid=...  \n",
       "\n",
       "[103 rows x 3 columns]"
      ]
     },
     "execution_count": 11,
     "metadata": {},
     "output_type": "execute_result"
    }
   ],
   "source": [
    "df_today_new1[['連結']]"
   ]
  },
  {
   "cell_type": "code",
   "execution_count": null,
   "metadata": {},
   "outputs": [],
   "source": []
  }
 ],
 "metadata": {
  "kernelspec": {
   "display_name": "Python 3",
   "language": "python",
   "name": "python3"
  },
  "language_info": {
   "codemirror_mode": {
    "name": "ipython",
    "version": 3
   },
   "file_extension": ".py",
   "mimetype": "text/x-python",
   "name": "python",
   "nbconvert_exporter": "python",
   "pygments_lexer": "ipython3",
   "version": "3.8.5"
  }
 },
 "nbformat": 4,
 "nbformat_minor": 4
}
